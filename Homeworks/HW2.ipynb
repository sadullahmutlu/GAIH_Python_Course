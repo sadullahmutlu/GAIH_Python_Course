{
 "cells": [
  {
   "cell_type": "markdown",
   "metadata": {},
   "source": [
    "## Global AI Hub "
   ]
  },
  {
   "cell_type": "markdown",
   "metadata": {},
   "source": [
    "### HW2\n",
    "\n",
    "Birbirinden Farklı 5 kişinin sözlükler sayesinde cv'sini oluşturma."
   ]
  },
  {
   "cell_type": "code",
   "execution_count": 1,
   "metadata": {},
   "outputs": [],
   "source": [
    "cv_1 = {\"Name\": \"Mehmet\", \"Surname\": \"Ersoylu\", \"Age\": 22, \"Location\": \"Istanbul\", \"Sex\":\"Male\"}\n",
    "cv_2 = {\"Name\": \"Kadriye\", \"Surname\": \"İzbeli\", \"Age\": 28, \"Location\": \"Bursa\", \"Sex\":\"Female\"}\n",
    "cv_3 = {\"Name\": \"Ahmet\", \"Surname\": \"Cengiz\", \"Age\": 24, \"Location\": \"Ankara\", \"Sex\":\"Male\"}\n",
    "cv_4 = {\"Name\": \"Fatma\", \"Surname\": \"Seher\", \"Age\": 35, \"Location\": \"Erzurum\", \"Sex\":\"Female\"}\n",
    "cv_5 = {\"Name\": \"Halide\", \"Surname\": \"Onbaşı\", \"Age\": 30, \"Location\": \"İzmir\", \"Sex\":\"Female\"}"
   ]
  },
  {
   "cell_type": "code",
   "execution_count": 2,
   "metadata": {},
   "outputs": [
    {
     "name": "stdout",
     "output_type": "stream",
     "text": [
      "Mehmet's CV: {'Name': 'Mehmet', 'Surname': 'Ersoylu', 'Age': 22, 'Location': 'Istanbul', 'Sex': 'Male'}\n"
     ]
    }
   ],
   "source": [
    "print(\"Mehmet's CV:\",cv_1)\n",
    "\n",
    "#print(\"Mehmet's CV\")\n",
    "#for k,v in cv_1.items():\n",
    "#    print(k,\":\",v)"
   ]
  },
  {
   "cell_type": "code",
   "execution_count": 3,
   "metadata": {},
   "outputs": [
    {
     "name": "stdout",
     "output_type": "stream",
     "text": [
      "Kadriye's CV: {'Name': 'Kadriye', 'Surname': 'İzbeli', 'Age': 28, 'Location': 'Bursa', 'Sex': 'Female'}\n"
     ]
    }
   ],
   "source": [
    "print(\"Kadriye's CV:\",cv_2)"
   ]
  },
  {
   "cell_type": "code",
   "execution_count": 4,
   "metadata": {},
   "outputs": [
    {
     "name": "stdout",
     "output_type": "stream",
     "text": [
      "Ahmet's CV: {'Name': 'Ahmet', 'Surname': 'Cengiz', 'Age': 24, 'Location': 'Ankara', 'Sex': 'Male'}\n"
     ]
    }
   ],
   "source": [
    "print(\"Ahmet's CV:\",cv_3)"
   ]
  },
  {
   "cell_type": "code",
   "execution_count": 5,
   "metadata": {},
   "outputs": [
    {
     "name": "stdout",
     "output_type": "stream",
     "text": [
      "Fatma's CV: {'Name': 'Fatma', 'Surname': 'Seher', 'Age': 35, 'Location': 'Erzurum', 'Sex': 'Female'}\n"
     ]
    }
   ],
   "source": [
    "print(\"Fatma's CV:\",cv_4)"
   ]
  },
  {
   "cell_type": "code",
   "execution_count": 6,
   "metadata": {},
   "outputs": [
    {
     "name": "stdout",
     "output_type": "stream",
     "text": [
      "Halide's CV: {'Name': 'Halide', 'Surname': 'Onbaşı', 'Age': 30, 'Location': 'İzmir', 'Sex': 'Female'}\n"
     ]
    }
   ],
   "source": [
    "print(\"Halide's CV:\",cv_5)"
   ]
  }
 ],
 "metadata": {
  "kernelspec": {
   "display_name": "Python 3",
   "language": "python",
   "name": "python3"
  },
  "language_info": {
   "codemirror_mode": {
    "name": "ipython",
    "version": 3
   },
   "file_extension": ".py",
   "mimetype": "text/x-python",
   "name": "python",
   "nbconvert_exporter": "python",
   "pygments_lexer": "ipython3",
   "version": "3.8.5"
  }
 },
 "nbformat": 4,
 "nbformat_minor": 4
}
