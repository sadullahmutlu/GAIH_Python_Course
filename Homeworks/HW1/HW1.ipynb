{
 "cells": [
  {
   "cell_type": "markdown",
   "metadata": {},
   "source": [
    "## Global AI Hub \n"
   ]
  },
  {
   "cell_type": "markdown",
   "metadata": {},
   "source": [
    "### HW1\n",
    "\n",
    "Birinde tek birinde çift sayıları yer aldığı iki liste oluşturduk.\n"
   ]
  },
  {
   "cell_type": "code",
   "execution_count": 1,
   "metadata": {},
   "outputs": [
    {
     "name": "stdout",
     "output_type": "stream",
     "text": [
      "Odd Numbers:  [0, 2, 4, 6, 8]\n",
      "Even Numbers:  [1, 3, 5, 7, 9]\n"
     ]
    }
   ],
   "source": [
    "odd_num = [0,2,4,6,8]\n",
    "even_num = [1,3,5,7,9]\n",
    "print(\"Odd Numbers: \" , odd_num) #burayı tek satırda da aralarına \\n koyarak da yazılabilir.\n",
    "print(\"Even Numbers: \" , even_num)"
   ]
  },
  {
   "cell_type": "code",
   "execution_count": 2,
   "metadata": {},
   "outputs": [
    {
     "name": "stdout",
     "output_type": "stream",
     "text": [
      "All Numbers: [0, 2, 4, 6, 8, 1, 3, 5, 7, 9]\n"
     ]
    }
   ],
   "source": [
    "numbers = odd_num + even_num #İki listeyi birleştirdik.\n",
    "print(\"All Numbers:\",numbers)"
   ]
  },
  {
   "cell_type": "code",
   "execution_count": 3,
   "metadata": {},
   "outputs": [
    {
     "name": "stdout",
     "output_type": "stream",
     "text": [
      "Multiplication list : [0, 4, 8, 12, 16, 2, 6, 10, 14, 18] \n",
      "\n",
      "Sorted list : [0, 2, 4, 6, 8, 10, 12, 14, 16, 18]\n"
     ]
    }
   ],
   "source": [
    "new_list = [i*2 for i in numbers] #İki Listenin elemanlarını birleştirip 2 ile çarptık\n",
    "print(\"Multiplication list :\",new_list, \"\\n\")\n",
    "new_list.sort() #listeyi sıralayın demiyordu fakat daha düzgün gözükmesi açısından listeyi sıraladık.\n",
    "print(\"Sorted list :\", new_list)"
   ]
  },
  {
   "cell_type": "code",
   "execution_count": 4,
   "metadata": {},
   "outputs": [
    {
     "name": "stdout",
     "output_type": "stream",
     "text": [
      "0 : data type of <class 'list'>\n",
      "2 : data type of <class 'list'>\n",
      "4 : data type of <class 'list'>\n",
      "6 : data type of <class 'list'>\n",
      "8 : data type of <class 'list'>\n",
      "10 : data type of <class 'list'>\n",
      "12 : data type of <class 'list'>\n",
      "14 : data type of <class 'list'>\n",
      "16 : data type of <class 'list'>\n",
      "18 : data type of <class 'list'>\n"
     ]
    }
   ],
   "source": [
    "for i in new_list:\n",
    "    print(i, \": data type of\", type(new_list))"
   ]
  }
 ],
 "metadata": {
  "kernelspec": {
   "display_name": "Python 3",
   "language": "python",
   "name": "python3"
  },
  "language_info": {
   "codemirror_mode": {
    "name": "ipython",
    "version": 3
   },
   "file_extension": ".py",
   "mimetype": "text/x-python",
   "name": "python",
   "nbconvert_exporter": "python",
   "pygments_lexer": "ipython3",
   "version": "3.8.5"
  }
 },
 "nbformat": 4,
 "nbformat_minor": 4
}
